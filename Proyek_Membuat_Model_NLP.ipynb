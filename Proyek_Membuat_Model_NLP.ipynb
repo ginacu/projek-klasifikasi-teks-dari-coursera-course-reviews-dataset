{
  "nbformat": 4,
  "nbformat_minor": 0,
  "metadata": {
    "colab": {
      "name": "Proyek_Membuat_Model_NLP13.ipynb",
      "provenance": [],
      "collapsed_sections": []
    },
    "kernelspec": {
      "display_name": "Python 3",
      "language": "python",
      "name": "python3"
    },
    "language_info": {
      "codemirror_mode": {
        "name": "ipython",
        "version": 3
      },
      "file_extension": ".py",
      "mimetype": "text/x-python",
      "name": "python",
      "nbconvert_exporter": "python",
      "pygments_lexer": "ipython3",
      "version": "3.8.8"
    }
  },
  "cells": [
    {
      "cell_type": "markdown",
      "metadata": {
        "id": "yb0Ka1mfDogL"
      },
      "source": [
        "*   Nama : Gina Cahya Utami\n",
        "*   Username : Gina Cahya\n",
        "*   Email : ginacu.gc@gmail.com\n",
        "*   Dataset : https://www.kaggle.com/septa97/100k-courseras-course-reviews-dataset?select=reviews.csv\n"
      ]
    },
    {
      "cell_type": "code",
      "metadata": {
        "colab": {
          "base_uri": "https://localhost:8080/",
          "height": 204
        },
        "id": "bC4lO2_lMkwo",
        "outputId": "b374b636-c944-4c15-a79d-25b5c0a68bdd"
      },
      "source": [
        "import pandas as pd\n",
        "df = pd.read_csv('reviews.csv')\n",
        "df.head()"
      ],
      "execution_count": 2,
      "outputs": [
        {
          "output_type": "execute_result",
          "data": {
            "text/html": [
              "<div>\n",
              "<style scoped>\n",
              "    .dataframe tbody tr th:only-of-type {\n",
              "        vertical-align: middle;\n",
              "    }\n",
              "\n",
              "    .dataframe tbody tr th {\n",
              "        vertical-align: top;\n",
              "    }\n",
              "\n",
              "    .dataframe thead th {\n",
              "        text-align: right;\n",
              "    }\n",
              "</style>\n",
              "<table border=\"1\" class=\"dataframe\">\n",
              "  <thead>\n",
              "    <tr style=\"text-align: right;\">\n",
              "      <th></th>\n",
              "      <th>Id</th>\n",
              "      <th>Review</th>\n",
              "      <th>Label</th>\n",
              "    </tr>\n",
              "  </thead>\n",
              "  <tbody>\n",
              "    <tr>\n",
              "      <th>0</th>\n",
              "      <td>0</td>\n",
              "      <td>good and interesting</td>\n",
              "      <td>5</td>\n",
              "    </tr>\n",
              "    <tr>\n",
              "      <th>1</th>\n",
              "      <td>1</td>\n",
              "      <td>This class is very helpful to me. Currently, I...</td>\n",
              "      <td>5</td>\n",
              "    </tr>\n",
              "    <tr>\n",
              "      <th>2</th>\n",
              "      <td>2</td>\n",
              "      <td>like!Prof and TAs are helpful and the discussi...</td>\n",
              "      <td>5</td>\n",
              "    </tr>\n",
              "    <tr>\n",
              "      <th>3</th>\n",
              "      <td>3</td>\n",
              "      <td>Easy to follow and includes a lot basic and im...</td>\n",
              "      <td>5</td>\n",
              "    </tr>\n",
              "    <tr>\n",
              "      <th>4</th>\n",
              "      <td>4</td>\n",
              "      <td>Really nice teacher!I could got the point eazl...</td>\n",
              "      <td>4</td>\n",
              "    </tr>\n",
              "  </tbody>\n",
              "</table>\n",
              "</div>"
            ],
            "text/plain": [
              "   Id                                             Review  Label\n",
              "0   0                               good and interesting      5\n",
              "1   1  This class is very helpful to me. Currently, I...      5\n",
              "2   2  like!Prof and TAs are helpful and the discussi...      5\n",
              "3   3  Easy to follow and includes a lot basic and im...      5\n",
              "4   4  Really nice teacher!I could got the point eazl...      4"
            ]
          },
          "metadata": {},
          "execution_count": 2
        }
      ]
    },
    {
      "cell_type": "markdown",
      "metadata": {
        "id": "MH6mXw4DueSh"
      },
      "source": [
        "**Hapus kolom yang tidak diperlukan**"
      ]
    },
    {
      "cell_type": "code",
      "metadata": {
        "colab": {
          "base_uri": "https://localhost:8080/",
          "height": 419
        },
        "id": "eNWbDZqFFBmx",
        "outputId": "ad016b05-7320-4a8c-eaf2-b791fab2853f"
      },
      "source": [
        "data = df.drop(columns=['Id'])\n",
        "data"
      ],
      "execution_count": 3,
      "outputs": [
        {
          "output_type": "execute_result",
          "data": {
            "text/html": [
              "<div>\n",
              "<style scoped>\n",
              "    .dataframe tbody tr th:only-of-type {\n",
              "        vertical-align: middle;\n",
              "    }\n",
              "\n",
              "    .dataframe tbody tr th {\n",
              "        vertical-align: top;\n",
              "    }\n",
              "\n",
              "    .dataframe thead th {\n",
              "        text-align: right;\n",
              "    }\n",
              "</style>\n",
              "<table border=\"1\" class=\"dataframe\">\n",
              "  <thead>\n",
              "    <tr style=\"text-align: right;\">\n",
              "      <th></th>\n",
              "      <th>Review</th>\n",
              "      <th>Label</th>\n",
              "    </tr>\n",
              "  </thead>\n",
              "  <tbody>\n",
              "    <tr>\n",
              "      <th>0</th>\n",
              "      <td>good and interesting</td>\n",
              "      <td>5</td>\n",
              "    </tr>\n",
              "    <tr>\n",
              "      <th>1</th>\n",
              "      <td>This class is very helpful to me. Currently, I...</td>\n",
              "      <td>5</td>\n",
              "    </tr>\n",
              "    <tr>\n",
              "      <th>2</th>\n",
              "      <td>like!Prof and TAs are helpful and the discussi...</td>\n",
              "      <td>5</td>\n",
              "    </tr>\n",
              "    <tr>\n",
              "      <th>3</th>\n",
              "      <td>Easy to follow and includes a lot basic and im...</td>\n",
              "      <td>5</td>\n",
              "    </tr>\n",
              "    <tr>\n",
              "      <th>4</th>\n",
              "      <td>Really nice teacher!I could got the point eazl...</td>\n",
              "      <td>4</td>\n",
              "    </tr>\n",
              "    <tr>\n",
              "      <th>...</th>\n",
              "      <td>...</td>\n",
              "      <td>...</td>\n",
              "    </tr>\n",
              "    <tr>\n",
              "      <th>107013</th>\n",
              "      <td>Trendy topic with talks from expertises in the...</td>\n",
              "      <td>4</td>\n",
              "    </tr>\n",
              "    <tr>\n",
              "      <th>107014</th>\n",
              "      <td>Wonderful! Simple and clear language, good ins...</td>\n",
              "      <td>5</td>\n",
              "    </tr>\n",
              "    <tr>\n",
              "      <th>107015</th>\n",
              "      <td>an interesting and fun course. thanks. dr quincy</td>\n",
              "      <td>5</td>\n",
              "    </tr>\n",
              "    <tr>\n",
              "      <th>107016</th>\n",
              "      <td>very broad perspective, up to date information...</td>\n",
              "      <td>4</td>\n",
              "    </tr>\n",
              "    <tr>\n",
              "      <th>107017</th>\n",
              "      <td>An informative course on the social and financ...</td>\n",
              "      <td>4</td>\n",
              "    </tr>\n",
              "  </tbody>\n",
              "</table>\n",
              "<p>107018 rows × 2 columns</p>\n",
              "</div>"
            ],
            "text/plain": [
              "                                                   Review  Label\n",
              "0                                    good and interesting      5\n",
              "1       This class is very helpful to me. Currently, I...      5\n",
              "2       like!Prof and TAs are helpful and the discussi...      5\n",
              "3       Easy to follow and includes a lot basic and im...      5\n",
              "4       Really nice teacher!I could got the point eazl...      4\n",
              "...                                                   ...    ...\n",
              "107013  Trendy topic with talks from expertises in the...      4\n",
              "107014  Wonderful! Simple and clear language, good ins...      5\n",
              "107015   an interesting and fun course. thanks. dr quincy      5\n",
              "107016  very broad perspective, up to date information...      4\n",
              "107017  An informative course on the social and financ...      4\n",
              "\n",
              "[107018 rows x 2 columns]"
            ]
          },
          "metadata": {},
          "execution_count": 3
        }
      ]
    },
    {
      "cell_type": "code",
      "metadata": {
        "colab": {
          "base_uri": "https://localhost:8080/"
        },
        "id": "ckcienp4Gcyc",
        "outputId": "253cb9ef-332a-460a-d1c7-2c4561679e8d"
      },
      "source": [
        "data.info()"
      ],
      "execution_count": 4,
      "outputs": [
        {
          "output_type": "stream",
          "name": "stdout",
          "text": [
            "<class 'pandas.core.frame.DataFrame'>\n",
            "RangeIndex: 107018 entries, 0 to 107017\n",
            "Data columns (total 2 columns):\n",
            " #   Column  Non-Null Count   Dtype \n",
            "---  ------  --------------   ----- \n",
            " 0   Review  107018 non-null  object\n",
            " 1   Label   107018 non-null  int64 \n",
            "dtypes: int64(1), object(1)\n",
            "memory usage: 1.6+ MB\n"
          ]
        }
      ]
    },
    {
      "cell_type": "markdown",
      "metadata": {
        "id": "i_m3snmluo57"
      },
      "source": [
        "**Data** **Cleaning**"
      ]
    },
    {
      "cell_type": "code",
      "metadata": {
        "colab": {
          "base_uri": "https://localhost:8080/"
        },
        "id": "B062Sx6c24eb",
        "outputId": "25495f3a-392e-4314-dd07-5d7dc0573a91"
      },
      "source": [
        "data.isna().sum()"
      ],
      "execution_count": 5,
      "outputs": [
        {
          "output_type": "execute_result",
          "data": {
            "text/plain": [
              "Review    0\n",
              "Label     0\n",
              "dtype: int64"
            ]
          },
          "metadata": {},
          "execution_count": 5
        }
      ]
    },
    {
      "cell_type": "code",
      "metadata": {
        "colab": {
          "base_uri": "https://localhost:8080/"
        },
        "id": "eDsgvpOQvZd3",
        "outputId": "ce351b7c-5805-4a3a-da47-398197b5cc02"
      },
      "source": [
        "print(data.duplicated().sum())"
      ],
      "execution_count": 6,
      "outputs": [
        {
          "output_type": "stream",
          "name": "stdout",
          "text": [
            "6546\n"
          ]
        }
      ]
    },
    {
      "cell_type": "code",
      "metadata": {
        "id": "NRu1oMWqbw3m"
      },
      "source": [
        "data_baru = data.copy(deep=True)\n",
        "data_baru.drop_duplicates(inplace=True)"
      ],
      "execution_count": 7,
      "outputs": []
    },
    {
      "cell_type": "code",
      "metadata": {
        "colab": {
          "base_uri": "https://localhost:8080/"
        },
        "id": "Dun6jNqob6ci",
        "outputId": "3e8589a7-2c58-4b42-8ec0-d8b3c477cf90"
      },
      "source": [
        "print(data_baru.duplicated().sum())"
      ],
      "execution_count": 8,
      "outputs": [
        {
          "output_type": "stream",
          "name": "stdout",
          "text": [
            "0\n"
          ]
        }
      ]
    },
    {
      "cell_type": "code",
      "metadata": {
        "colab": {
          "base_uri": "https://localhost:8080/"
        },
        "id": "DTTfZlEzcCfc",
        "outputId": "88afa3b6-b582-46a2-ab41-64e0e00607c3"
      },
      "source": [
        "data_baru.shape"
      ],
      "execution_count": 9,
      "outputs": [
        {
          "output_type": "execute_result",
          "data": {
            "text/plain": [
              "(100472, 2)"
            ]
          },
          "metadata": {},
          "execution_count": 9
        }
      ]
    },
    {
      "cell_type": "markdown",
      "metadata": {
        "id": "ieE_03RsTL-D"
      },
      "source": [
        "**Proses** **One-Hot-Encoding**"
      ]
    },
    {
      "cell_type": "code",
      "metadata": {
        "colab": {
          "base_uri": "https://localhost:8080/",
          "height": 419
        },
        "id": "CYz5jVhBTD74",
        "outputId": "edef84aa-5a0e-4b11-dd95-1d973c1686d3"
      },
      "source": [
        "category = pd.get_dummies(data_baru['Label'])\n",
        "data_baru = pd.concat([data_baru, category], axis=1)\n",
        "dataset = data_baru.drop(columns='Label')\n",
        "dataset"
      ],
      "execution_count": 10,
      "outputs": [
        {
          "output_type": "execute_result",
          "data": {
            "text/html": [
              "<div>\n",
              "<style scoped>\n",
              "    .dataframe tbody tr th:only-of-type {\n",
              "        vertical-align: middle;\n",
              "    }\n",
              "\n",
              "    .dataframe tbody tr th {\n",
              "        vertical-align: top;\n",
              "    }\n",
              "\n",
              "    .dataframe thead th {\n",
              "        text-align: right;\n",
              "    }\n",
              "</style>\n",
              "<table border=\"1\" class=\"dataframe\">\n",
              "  <thead>\n",
              "    <tr style=\"text-align: right;\">\n",
              "      <th></th>\n",
              "      <th>Review</th>\n",
              "      <th>1</th>\n",
              "      <th>2</th>\n",
              "      <th>3</th>\n",
              "      <th>4</th>\n",
              "      <th>5</th>\n",
              "    </tr>\n",
              "  </thead>\n",
              "  <tbody>\n",
              "    <tr>\n",
              "      <th>0</th>\n",
              "      <td>good and interesting</td>\n",
              "      <td>0</td>\n",
              "      <td>0</td>\n",
              "      <td>0</td>\n",
              "      <td>0</td>\n",
              "      <td>1</td>\n",
              "    </tr>\n",
              "    <tr>\n",
              "      <th>1</th>\n",
              "      <td>This class is very helpful to me. Currently, I...</td>\n",
              "      <td>0</td>\n",
              "      <td>0</td>\n",
              "      <td>0</td>\n",
              "      <td>0</td>\n",
              "      <td>1</td>\n",
              "    </tr>\n",
              "    <tr>\n",
              "      <th>2</th>\n",
              "      <td>like!Prof and TAs are helpful and the discussi...</td>\n",
              "      <td>0</td>\n",
              "      <td>0</td>\n",
              "      <td>0</td>\n",
              "      <td>0</td>\n",
              "      <td>1</td>\n",
              "    </tr>\n",
              "    <tr>\n",
              "      <th>3</th>\n",
              "      <td>Easy to follow and includes a lot basic and im...</td>\n",
              "      <td>0</td>\n",
              "      <td>0</td>\n",
              "      <td>0</td>\n",
              "      <td>0</td>\n",
              "      <td>1</td>\n",
              "    </tr>\n",
              "    <tr>\n",
              "      <th>4</th>\n",
              "      <td>Really nice teacher!I could got the point eazl...</td>\n",
              "      <td>0</td>\n",
              "      <td>0</td>\n",
              "      <td>0</td>\n",
              "      <td>1</td>\n",
              "      <td>0</td>\n",
              "    </tr>\n",
              "    <tr>\n",
              "      <th>...</th>\n",
              "      <td>...</td>\n",
              "      <td>...</td>\n",
              "      <td>...</td>\n",
              "      <td>...</td>\n",
              "      <td>...</td>\n",
              "      <td>...</td>\n",
              "    </tr>\n",
              "    <tr>\n",
              "      <th>107013</th>\n",
              "      <td>Trendy topic with talks from expertises in the...</td>\n",
              "      <td>0</td>\n",
              "      <td>0</td>\n",
              "      <td>0</td>\n",
              "      <td>1</td>\n",
              "      <td>0</td>\n",
              "    </tr>\n",
              "    <tr>\n",
              "      <th>107014</th>\n",
              "      <td>Wonderful! Simple and clear language, good ins...</td>\n",
              "      <td>0</td>\n",
              "      <td>0</td>\n",
              "      <td>0</td>\n",
              "      <td>0</td>\n",
              "      <td>1</td>\n",
              "    </tr>\n",
              "    <tr>\n",
              "      <th>107015</th>\n",
              "      <td>an interesting and fun course. thanks. dr quincy</td>\n",
              "      <td>0</td>\n",
              "      <td>0</td>\n",
              "      <td>0</td>\n",
              "      <td>0</td>\n",
              "      <td>1</td>\n",
              "    </tr>\n",
              "    <tr>\n",
              "      <th>107016</th>\n",
              "      <td>very broad perspective, up to date information...</td>\n",
              "      <td>0</td>\n",
              "      <td>0</td>\n",
              "      <td>0</td>\n",
              "      <td>1</td>\n",
              "      <td>0</td>\n",
              "    </tr>\n",
              "    <tr>\n",
              "      <th>107017</th>\n",
              "      <td>An informative course on the social and financ...</td>\n",
              "      <td>0</td>\n",
              "      <td>0</td>\n",
              "      <td>0</td>\n",
              "      <td>1</td>\n",
              "      <td>0</td>\n",
              "    </tr>\n",
              "  </tbody>\n",
              "</table>\n",
              "<p>100472 rows × 6 columns</p>\n",
              "</div>"
            ],
            "text/plain": [
              "                                                   Review  1  2  3  4  5\n",
              "0                                    good and interesting  0  0  0  0  1\n",
              "1       This class is very helpful to me. Currently, I...  0  0  0  0  1\n",
              "2       like!Prof and TAs are helpful and the discussi...  0  0  0  0  1\n",
              "3       Easy to follow and includes a lot basic and im...  0  0  0  0  1\n",
              "4       Really nice teacher!I could got the point eazl...  0  0  0  1  0\n",
              "...                                                   ... .. .. .. .. ..\n",
              "107013  Trendy topic with talks from expertises in the...  0  0  0  1  0\n",
              "107014  Wonderful! Simple and clear language, good ins...  0  0  0  0  1\n",
              "107015   an interesting and fun course. thanks. dr quincy  0  0  0  0  1\n",
              "107016  very broad perspective, up to date information...  0  0  0  1  0\n",
              "107017  An informative course on the social and financ...  0  0  0  1  0\n",
              "\n",
              "[100472 rows x 6 columns]"
            ]
          },
          "metadata": {},
          "execution_count": 10
        }
      ]
    },
    {
      "cell_type": "markdown",
      "metadata": {
        "id": "5FBgCnA-TldF"
      },
      "source": [
        "**Mengubah nilai-nilai dari dataframe ke dalam tipe data numpy array**"
      ]
    },
    {
      "cell_type": "code",
      "metadata": {
        "id": "A6CGG2jcTbLH"
      },
      "source": [
        "x = dataset['Review'].values\n",
        "y = dataset[[1, 2, 3, 4, 5]].values"
      ],
      "execution_count": 11,
      "outputs": []
    },
    {
      "cell_type": "markdown",
      "metadata": {
        "id": "e0_eu_K1U6-p"
      },
      "source": [
        "**Membagi data untuk training dan data untuk testing**"
      ]
    },
    {
      "cell_type": "code",
      "metadata": {
        "colab": {
          "base_uri": "https://localhost:8080/"
        },
        "id": "0q9yJAUMUxTq",
        "outputId": "fc9596a3-4847-462e-b099-7c8e6c02b2da"
      },
      "source": [
        "from sklearn.model_selection import train_test_split\n",
        "x_train, x_test, y_train, y_test = train_test_split(x, y, test_size=0.2, random_state=42)\n",
        "len(x_test)"
      ],
      "execution_count": 12,
      "outputs": [
        {
          "output_type": "execute_result",
          "data": {
            "text/plain": [
              "20095"
            ]
          },
          "metadata": {},
          "execution_count": 12
        }
      ]
    },
    {
      "cell_type": "markdown",
      "metadata": {
        "id": "mo-TrqHEWL3N"
      },
      "source": [
        "**Tokenization**"
      ]
    },
    {
      "cell_type": "code",
      "metadata": {
        "colab": {
          "base_uri": "https://localhost:8080/"
        },
        "id": "L2HroD2SWAJ3",
        "outputId": "5e7ca5a7-0db1-4758-c20f-ce5ffc330958"
      },
      "source": [
        "from tensorflow.keras.preprocessing.text import Tokenizer\n",
        "from tensorflow.keras.preprocessing.sequence import pad_sequences\n",
        "\n",
        "num_word = 100473\n",
        "embedded_dim = 100\n",
        "\n",
        "tokenizer = Tokenizer(num_words=num_word, oov_token='x', filters='!\"#$%&()*+,-./:;<=>?@[\\]^_`{|}~0-9', lower=True)\n",
        "tokenizer.fit_on_texts(x_train)\n",
        "tokenizer.fit_on_texts(x_test)\n",
        "word_index=tokenizer.word_index\n",
        "print(\"ditemukan %s token unik\"% len(word_index))\n",
        " \n",
        "sekuens_train = tokenizer.texts_to_sequences(x_train)\n",
        "sekuens_test = tokenizer.texts_to_sequences(x_test)\n",
        " \n",
        "padded_train = pad_sequences(sekuens_train, maxlen=250, padding='post') \n",
        "padded_test = pad_sequences(sekuens_test, maxlen=250, padding='post')\n",
        "print(\"Shape of data tensor \", padded_train.shape)\n",
        "print(\"Shape of data tensor \", y_train.shape)\n",
        "print(\"Shape of data tensor \", padded_test.shape)\n",
        "print(\"Shape of data tensor \", y_test.shape)"
      ],
      "execution_count": 13,
      "outputs": [
        {
          "output_type": "stream",
          "name": "stdout",
          "text": [
            "ditemukan 35193 token unik\n",
            "Shape of data tensor  (80377, 250)\n",
            "Shape of data tensor  (80377, 5)\n",
            "Shape of data tensor  (20095, 250)\n",
            "Shape of data tensor  (20095, 5)\n"
          ]
        }
      ]
    },
    {
      "cell_type": "markdown",
      "metadata": {
        "id": "RN3AW245Wnhg"
      },
      "source": [
        "**Modelling menggunakan Embedding**"
      ]
    },
    {
      "cell_type": "code",
      "metadata": {
        "id": "EFYe0hswWfj4"
      },
      "source": [
        "import tensorflow as tf\n",
        "from keras.models import Sequential\n",
        "from keras.layers import Dense, Input, GlobalMaxPooling1D, Conv1D, MaxPool1D, Embedding, Dropout, LSTM\n",
        "\n",
        "max_len = 250\n",
        "vector_length = 100\n",
        "\n",
        "model = Sequential()\n",
        "model.add(Embedding(input_dim=num_word, output_dim=vector_length, input_length=max_len))\n",
        "model.add(LSTM(100))\n",
        "model.add(Dense(32, activation='relu'))\n",
        "model.add(Dropout(0.2))\n",
        "model.add(Dense(16, activation='relu'))\n",
        "model.add(Dropout(0.2))\n",
        "model.add(Dense(5, activation='softmax'))\n",
        "\n",
        "model.compile(loss='categorical_crossentropy',\n",
        "              optimizer='adam',\n",
        "              metrics=['accuracy'])"
      ],
      "execution_count": 14,
      "outputs": []
    },
    {
      "cell_type": "markdown",
      "metadata": {
        "id": "vcBHzhAhY6GQ"
      },
      "source": [
        "**Membuat Class Callback**"
      ]
    },
    {
      "cell_type": "code",
      "metadata": {
        "id": "qdbRq4_gY04U"
      },
      "source": [
        "from tensorflow.keras.callbacks import Callback\n",
        "class myCallback(Callback):\n",
        "  def on_epoch_end(self, epoch, logs={}):\n",
        "    if(logs.get('accuracy')>0.90 and logs.get('val_accuracy')>0.90):\n",
        "      print(\"\\nAkurasi telah mencapai >90%! dan val akurasi telah mencapai >90%!\")\n",
        "      self.model.stop_training = True\n",
        "callbacks = myCallback()"
      ],
      "execution_count": 15,
      "outputs": []
    },
    {
      "cell_type": "markdown",
      "metadata": {
        "id": "n9xE3mi0ZNSe"
      },
      "source": [
        "**Melatih Model**"
      ]
    },
    {
      "cell_type": "code",
      "metadata": {
        "colab": {
          "base_uri": "https://localhost:8080/"
        },
        "id": "5XYQTQ7RvMqp",
        "outputId": "13e3ca4d-e3f7-4355-be9e-47e5110899a9"
      },
      "source": [
        "history = model.fit(padded_train, \n",
        "                    y_train, \n",
        "                    epochs=15,\n",
        "                    batch_size=32,\n",
        "                    callbacks=[callbacks],\n",
        "                    validation_data=(padded_test, y_test),\n",
        "                    verbose=2)"
      ],
      "execution_count": 16,
      "outputs": [
        {
          "output_type": "stream",
          "name": "stdout",
          "text": [
            "Epoch 1/15\n",
            "2512/2512 - 775s - loss: 0.8839 - accuracy: 0.7276 - val_loss: 0.8591 - val_accuracy: 0.7295\n",
            "Epoch 2/15\n",
            "2512/2512 - 772s - loss: 0.8631 - accuracy: 0.7292 - val_loss: 0.8576 - val_accuracy: 0.7295\n",
            "Epoch 3/15\n",
            "2512/2512 - 772s - loss: 0.8598 - accuracy: 0.7293 - val_loss: 0.8574 - val_accuracy: 0.7295\n",
            "Epoch 4/15\n",
            "2512/2512 - 773s - loss: 0.8585 - accuracy: 0.7294 - val_loss: 0.8588 - val_accuracy: 0.7296\n",
            "Epoch 5/15\n",
            "2512/2512 - 770s - loss: 0.8578 - accuracy: 0.7296 - val_loss: 0.8581 - val_accuracy: 0.7296\n",
            "Epoch 6/15\n",
            "2512/2512 - 773s - loss: 0.8571 - accuracy: 0.7296 - val_loss: 0.8577 - val_accuracy: 0.7292\n",
            "Epoch 7/15\n",
            "2512/2512 - 773s - loss: 0.8149 - accuracy: 0.7321 - val_loss: 0.6865 - val_accuracy: 0.7457\n",
            "Epoch 8/15\n",
            "2512/2512 - 774s - loss: 0.6486 - accuracy: 0.7544 - val_loss: 0.6086 - val_accuracy: 0.7621\n",
            "Epoch 9/15\n",
            "2512/2512 - 774s - loss: 0.5883 - accuracy: 0.7726 - val_loss: 0.5874 - val_accuracy: 0.7722\n",
            "Epoch 10/15\n",
            "2512/2512 - 772s - loss: 0.5426 - accuracy: 0.7919 - val_loss: 0.5848 - val_accuracy: 0.7743\n",
            "Epoch 11/15\n",
            "2512/2512 - 772s - loss: 0.5083 - accuracy: 0.8064 - val_loss: 0.5973 - val_accuracy: 0.7754\n",
            "Epoch 12/15\n",
            "2512/2512 - 773s - loss: 0.4728 - accuracy: 0.8222 - val_loss: 0.6246 - val_accuracy: 0.7565\n",
            "Epoch 13/15\n",
            "2512/2512 - 772s - loss: 0.4394 - accuracy: 0.8372 - val_loss: 0.6649 - val_accuracy: 0.7633\n",
            "Epoch 14/15\n",
            "2512/2512 - 774s - loss: 0.4089 - accuracy: 0.8502 - val_loss: 0.6750 - val_accuracy: 0.7663\n",
            "Epoch 15/15\n",
            "2512/2512 - 773s - loss: 0.3820 - accuracy: 0.8613 - val_loss: 0.7566 - val_accuracy: 0.7532\n"
          ]
        }
      ]
    },
    {
      "cell_type": "code",
      "metadata": {
        "colab": {
          "base_uri": "https://localhost:8080/"
        },
        "id": "4-Ebzix4Maso",
        "outputId": "4e00a5be-2174-4d45-996a-6cd0a45ff597"
      },
      "source": [
        "model.evaluate(padded_test, y_test)"
      ],
      "execution_count": 17,
      "outputs": [
        {
          "output_type": "stream",
          "name": "stdout",
          "text": [
            "628/628 [==============================] - 33s 53ms/step - loss: 0.7566 - accuracy: 0.7532\n"
          ]
        },
        {
          "output_type": "execute_result",
          "data": {
            "text/plain": [
              "[0.7565724849700928, 0.7532221674919128]"
            ]
          },
          "metadata": {},
          "execution_count": 17
        }
      ]
    },
    {
      "cell_type": "code",
      "metadata": {
        "colab": {
          "base_uri": "https://localhost:8080/",
          "height": 295
        },
        "id": "6YFlkrq4Zq3F",
        "outputId": "df8c898a-539c-42d3-f27b-84d53991f679"
      },
      "source": [
        "import matplotlib.pyplot as plt\n",
        "plt.plot(history.history['loss'])\n",
        "plt.title('Model loss')\n",
        "plt.ylabel('Loss')\n",
        "plt.xlabel('Epoch')\n",
        "plt.legend(['Train'], loc='upper right')\n",
        "plt.show()"
      ],
      "execution_count": 18,
      "outputs": [
        {
          "output_type": "display_data",
          "data": {
            "image/png": "[encoded data removed]",
            "text/plain": [
              "<Figure size 432x288 with 1 Axes>"
            ]
          },
          "metadata": {
            "needs_background": "light"
          }
        }
      ]
    },
    {
      "cell_type": "code",
      "metadata": {
        "colab": {
          "base_uri": "https://localhost:8080/",
          "height": 295
        },
        "id": "uonrnobiNORH",
        "outputId": "66ee04b4-74c1-456f-ed1f-11b633a99652"
      },
      "source": [
        "plt.plot(history.history['accuracy'])\n",
        "plt.title('Model accuracy')\n",
        "plt.ylabel('Accuracy')\n",
        "plt.xlabel('Epoch')\n",
        "plt.legend(['Train'], loc='lower right')\n",
        "plt.show()"
      ],
      "execution_count": 19,
      "outputs": [
        {
          "output_type": "display_data",
          "data": {
            "image/png": "[encoded data removed]",
            "text/plain": [
              "<Figure size 432x288 with 1 Axes>"
            ]
          },
          "metadata": {
            "needs_background": "light"
          }
        }
      ]
    }
  ]
}